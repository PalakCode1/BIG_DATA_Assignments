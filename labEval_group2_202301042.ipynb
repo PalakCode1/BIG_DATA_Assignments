{
  "nbformat": 4,
  "nbformat_minor": 0,
  "metadata": {
    "colab": {
      "provenance": [],
      "authorship_tag": "ABX9TyNpQapY0dfoThvylNE2nW1O",
      "include_colab_link": true
    },
    "kernelspec": {
      "name": "python3",
      "display_name": "Python 3"
    },
    "language_info": {
      "name": "python"
    }
  },
  "cells": [
    {
      "cell_type": "markdown",
      "metadata": {
        "id": "view-in-github",
        "colab_type": "text"
      },
      "source": [
        "<a href=\"https://colab.research.google.com/github/PalakCode1/BIG_DATA_Assignments/blob/main/labEval_group2_202301042.ipynb\" target=\"_parent\"><img src=\"https://colab.research.google.com/assets/colab-badge.svg\" alt=\"Open In Colab\"/></a>"
      ]
    },
    {
      "cell_type": "code",
      "execution_count": 6,
      "metadata": {
        "colab": {
          "base_uri": "https://localhost:8080/"
        },
        "id": "76kxf_1KVyLe",
        "outputId": "bb4edb0f-b658-421f-b7d0-bf7bb402ac36"
      },
      "outputs": [
        {
          "output_type": "stream",
          "name": "stdout",
          "text": [
            "[ 10  16  16  52  54  62 453]\n"
          ]
        }
      ],
      "source": [
        "import numpy as np\n",
        "import pandas as pd\n",
        "\n",
        "arr_1 = np.array([10,52,62,16,16,54,453])\n",
        "\n",
        "#sorting\n",
        "sort_arr = np.sort(arr_1)\n",
        "print(sort_arr)\n",
        "\n",
        "#indicing\n",
        "#smallest element\n",
        "#largest element\n",
        "\n"
      ]
    },
    {
      "cell_type": "code",
      "source": [
        "arr_1_indicing= np.argsort(sort_arr)\n",
        "print(arr_1_indicing)"
      ],
      "metadata": {
        "colab": {
          "base_uri": "https://localhost:8080/"
        },
        "id": "sZZgb_m8Y8PL",
        "outputId": "91276d24-a997-4010-fff8-70f76d2a98d4"
      },
      "execution_count": 8,
      "outputs": [
        {
          "output_type": "stream",
          "name": "stdout",
          "text": [
            "[0 1 2 3 4 5 6]\n"
          ]
        }
      ]
    },
    {
      "cell_type": "code",
      "source": [
        "smallest_elements = np.min(sort_arr)\n",
        "print(smallest_elements)"
      ],
      "metadata": {
        "colab": {
          "base_uri": "https://localhost:8080/"
        },
        "id": "J50d2w_EY8Sd",
        "outputId": "c21ab959-6d89-47ee-a4d3-68576e7f5136"
      },
      "execution_count": 11,
      "outputs": [
        {
          "output_type": "stream",
          "name": "stdout",
          "text": [
            "10\n"
          ]
        }
      ]
    },
    {
      "cell_type": "code",
      "source": [
        "largest_element = np.max(sort_arr)\n",
        "print(largest_element)"
      ],
      "metadata": {
        "colab": {
          "base_uri": "https://localhost:8080/"
        },
        "id": "_evqSicMY8WZ",
        "outputId": "470699dd-efb2-4fb9-e0f9-5ce0ee697a83"
      },
      "execution_count": 12,
      "outputs": [
        {
          "output_type": "stream",
          "name": "stdout",
          "text": [
            "453\n"
          ]
        }
      ]
    },
    {
      "cell_type": "code",
      "source": [
        "smallest=sort_arr[:4]\n",
        "print(smallest)\n"
      ],
      "metadata": {
        "colab": {
          "base_uri": "https://localhost:8080/"
        },
        "id": "CtkJUFm1Y8Y1",
        "outputId": "994d5b2e-7c55-4e49-941e-fd60f3eb7df2"
      },
      "execution_count": 18,
      "outputs": [
        {
          "output_type": "stream",
          "name": "stdout",
          "text": [
            "[10 16 16 52]\n"
          ]
        }
      ]
    },
    {
      "cell_type": "code",
      "source": [],
      "metadata": {
        "id": "8HfUJta3Y8bW"
      },
      "execution_count": 19,
      "outputs": []
    },
    {
      "cell_type": "code",
      "source": [],
      "metadata": {
        "id": "BOply9gaY8e0"
      },
      "execution_count": null,
      "outputs": []
    }
  ]
}